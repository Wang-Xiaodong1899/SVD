{
 "cells": [
  {
   "cell_type": "code",
   "execution_count": 2,
   "id": "23ee5462-f952-4299-8898-e3f416b95f70",
   "metadata": {},
   "outputs": [
    {
     "ename": "ImportError",
     "evalue": "cannot import name 'UNetSpatioTemporalConditionModel_Action' from 'diffusers' (/Users/xiaodong/anaconda3/envs/visgpt/lib/python3.8/site-packages/diffusers/__init__.py)",
     "output_type": "error",
     "traceback": [
      "\u001b[0;31m---------------------------------------------------------------------------\u001b[0m",
      "\u001b[0;31mImportError\u001b[0m                               Traceback (most recent call last)",
      "Cell \u001b[0;32mIn[2], line 9\u001b[0m\n\u001b[1;32m      7\u001b[0m \u001b[38;5;28;01mimport\u001b[39;00m \u001b[38;5;21;01msys\u001b[39;00m\n\u001b[1;32m      8\u001b[0m sys\u001b[38;5;241m.\u001b[39mpath\u001b[38;5;241m.\u001b[39mappend(\u001b[38;5;124m'\u001b[39m\u001b[38;5;124m/Users/xiaodong/新项目/diffusers/src\u001b[39m\u001b[38;5;124m'\u001b[39m)\n\u001b[0;32m----> 9\u001b[0m \u001b[38;5;28;01mfrom\u001b[39;00m \u001b[38;5;21;01mdiffusers\u001b[39;00m \u001b[38;5;28;01mimport\u001b[39;00m UNetSpatioTemporalConditionModel_Action\n\u001b[1;32m     10\u001b[0m \u001b[38;5;28;01mfrom\u001b[39;00m \u001b[38;5;21;01mdiffusers\u001b[39;00m \u001b[38;5;28;01mimport\u001b[39;00m AutoencoderKL, DDPMScheduler, StableDiffusionPipeline, UNet2DConditionModel\n\u001b[1;32m     11\u001b[0m \u001b[38;5;28;01mfrom\u001b[39;00m \u001b[38;5;21;01mdiffusers\u001b[39;00m \u001b[38;5;28;01mimport\u001b[39;00m ActionVideoDiffusionPipeline\n",
      "\u001b[0;31mImportError\u001b[0m: cannot import name 'UNetSpatioTemporalConditionModel_Action' from 'diffusers' (/Users/xiaodong/anaconda3/envs/visgpt/lib/python3.8/site-packages/diffusers/__init__.py)"
     ]
    }
   ],
   "source": [
    "import torch\n",
    "import torch.nn as nn\n",
    "from tqdm import tqdm\n",
    "from einops import rearrange, repeat\n",
    "from transformers import CLIPTextModel, CLIPTokenizer\n",
    "\n",
    "import sys\n",
    "sys.path.append('/Users/xiaodong/新项目/diffusers/src')\n",
    "from diffusers import UNetSpatioTemporalConditionModel_Action\n",
    "from diffusers import AutoencoderKL, DDPMScheduler, StableDiffusionPipeline, UNet2DConditionModel\n",
    "from diffusers import ActionVideoDiffusionPipeline"
   ]
  },
  {
   "cell_type": "code",
   "execution_count": 1,
   "id": "e0b4998d-b8e7-4a80-a81a-37f34ae609b0",
   "metadata": {},
   "outputs": [
    {
     "name": "stdout",
     "output_type": "stream",
     "text": [
      "/Users/xiaodong/新项目/diffusers/examples/text_to_video\n"
     ]
    }
   ],
   "source": [
    "!pwd"
   ]
  }
 ],
 "metadata": {
  "kernelspec": {
   "display_name": "Python 3 (ipykernel)",
   "language": "python",
   "name": "python3"
  },
  "language_info": {
   "codemirror_mode": {
    "name": "ipython",
    "version": 3
   },
   "file_extension": ".py",
   "mimetype": "text/x-python",
   "name": "python",
   "nbconvert_exporter": "python",
   "pygments_lexer": "ipython3",
   "version": "3.8.16"
  }
 },
 "nbformat": 4,
 "nbformat_minor": 5
}
