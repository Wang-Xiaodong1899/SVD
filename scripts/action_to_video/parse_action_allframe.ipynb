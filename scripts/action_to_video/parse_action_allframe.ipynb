{
 "cells": [
  {
   "cell_type": "code",
   "execution_count": 1,
   "id": "aeda6133-a3d1-4f42-9592-ae3f2ba1f89d",
   "metadata": {},
   "outputs": [],
   "source": [
    "import torch\n",
    "import torch.nn as nn\n",
    "from tqdm import tqdm\n",
    "from nuscenes.nuscenes import NuScenes\n",
    "from nuscenes.utils.splits import create_splits_scenes\n",
    "from nuscenes.can_bus.can_bus_api import NuScenesCanBus\n",
    "\n",
    "import sys\n",
    "# sys.path.append('/mnt/cache/wangxiaodong/SDM/src')"
   ]
  },
  {
   "cell_type": "code",
   "execution_count": 2,
   "id": "8256e32b",
   "metadata": {},
   "outputs": [],
   "source": [
    "DATAROOT = '/mnt/storage/user/wangxiaodong/nuscenes-all'\n",
    "\n",
    "class frameDataset():\n",
    "    def __init__(self, split='val'):\n",
    "        self.split = split\n",
    "\n",
    "        self.nusc = NuScenes(version='v1.0-trainval', dataroot=DATAROOT, verbose=True)\n",
    "\n",
    "        self.splits = create_splits_scenes()\n",
    "\n",
    "        self.samples_groups = self.get_samples(split)\n",
    "        \n",
    "    def __len__(self):\n",
    "        return len(self.samples)\n",
    "    \n",
    "    def get_all_frames_from_scene(self, scene):\n",
    "        # get all frames (keyframes, sweeps)\n",
    "        first_sample_token = scene['first_sample_token']\n",
    "        my_sample = self.nusc.get('sample', first_sample_token)\n",
    "        sensor = \"CAM_FRONT\"\n",
    "        cam_front_data = self.nusc.get('sample_data', my_sample['data'][sensor]) # first frame sensor token\n",
    "        # frames = 0\n",
    "        all_frames_dict = [] # len() -> frame number\n",
    "        while True:\n",
    "            all_frames_dict.append(cam_front_data)\n",
    "            # filename = cam_front_data['filename']  # current-frame filename\n",
    "            next_sample_data_token = cam_front_data['next']  # next-frame sensor token\n",
    "            if not next_sample_data_token: # ''\n",
    "                break\n",
    "            cam_front_data = self.nusc.get('sample_data', next_sample_data_token)\n",
    "            # frames += 1\n",
    "        \n",
    "        return all_frames_dict\n",
    "    def get_samples(self, split='train'):\n",
    "        selected_scenes = self.splits[split] # all scenes\n",
    "        all_scenes = self.nusc.scene\n",
    "        selected_scenes_meta = []\n",
    "        for sce in all_scenes:\n",
    "            if sce['name'] in selected_scenes:\n",
    "                selected_scenes_meta.append(sce)\n",
    "        \n",
    "        samples_group_by_scene = {}\n",
    "        for scene in selected_scenes_meta:\n",
    "            scene_name = scene['name']\n",
    "            samples_group_by_scene[scene_name] = self.get_all_frames_from_scene(scene)\n",
    "        \n",
    "        return samples_group_by_scene"
   ]
  },
  {
   "cell_type": "code",
   "execution_count": 12,
   "id": "431af6c3-e850-4831-9814-17cfb2411b67",
   "metadata": {},
   "outputs": [
    {
     "name": "stdout",
     "output_type": "stream",
     "text": [
      "======\n",
      "Loading NuScenes tables for version v1.0-trainval...\n",
      "23 category,\n",
      "8 attribute,\n",
      "4 visibility,\n",
      "64386 instance,\n",
      "12 sensor,\n",
      "10200 calibrated_sensor,\n",
      "2631083 ego_pose,\n",
      "68 log,\n",
      "850 scene,\n",
      "34149 sample,\n",
      "2631083 sample_data,\n",
      "1166187 sample_annotation,\n",
      "4 map,\n",
      "Done loading in 41.185 seconds.\n",
      "======\n",
      "Reverse indexing ...\n",
      "Done reverse indexing in 7.6 seconds.\n",
      "======\n"
     ]
    }
   ],
   "source": [
    "dataset = frameDataset('train')\n",
    "scenes_list = list(dataset.samples_groups.keys())\n",
    "nusc_can = NuScenesCanBus(dataroot='/mnt/storage/user/wangxiaodong/nuscenes')"
   ]
  },
  {
   "cell_type": "code",
   "execution_count": 4,
   "id": "82be5df6",
   "metadata": {},
   "outputs": [],
   "source": [
    "def get_sample_utime(token):\n",
    "    sample_path = dataset.nusc.get('sample_data', token)['filename']\n",
    "    sample_utime = int(sample_path.split('__')[-1].split('.')[0])\n",
    "    return sample_utime\n",
    "\n",
    "def get_sample_filename(token):\n",
    "    sample_path = dataset.nusc.get('sample_data', token)['filename']\n",
    "    return sample_path\n",
    "\n",
    "def sort_samples(unsort_samples):\n",
    "    samples_with_utime = []\n",
    "\n",
    "    for item in unsort_samples:\n",
    "        token = item['data']['CAM_FRONT']\n",
    "        sample_utime = get_sample_utime(token)\n",
    "        samples_with_utime.append((sample_utime, item))\n",
    "\n",
    "    samples_with_utime.sort(key=lambda x: x[0])\n",
    "\n",
    "    sorted_samples = [item for _, item in samples_with_utime]\n",
    "\n",
    "    return sorted_samples"
   ]
  },
  {
   "cell_type": "code",
   "execution_count": 5,
   "id": "f1b222fb",
   "metadata": {},
   "outputs": [],
   "source": [
    "import bisect\n",
    "\n",
    "def interpolate_speed(veh_speed, timestamp):\n",
    "    if timestamp < veh_speed[0]['utime']:\n",
    "        return veh_speed[0]['vehicle_speed']\n",
    "    # 找到timestamp在veh_speed中的位置\n",
    "    index = bisect.bisect_left([d['utime'] for d in veh_speed], timestamp)\n",
    "    \n",
    "    # 如果timestamp在veh_speed的最后一个元素之后，则返回最后一个元素的速度\n",
    "    if index == len(veh_speed):\n",
    "        return veh_speed[-1]['vehicle_speed']\n",
    "    \n",
    "    # 如果timestamp正好等于某个utime，则直接返回该utime对应的速度\n",
    "    if veh_speed[index]['utime'] == timestamp:\n",
    "        return veh_speed[index]['vehicle_speed']\n",
    "    \n",
    "    # 如果timestamp在两个utime之间，则进行插值\n",
    "    prev_utime = veh_speed[index - 1]['utime']\n",
    "    next_utime = veh_speed[index]['utime']\n",
    "    prev_speed = veh_speed[index - 1]['vehicle_speed']\n",
    "    next_speed = veh_speed[index]['vehicle_speed']\n",
    "    \n",
    "    # 进行线性插值\n",
    "    interpolated_speed = prev_speed + ((next_speed - prev_speed) / (next_utime - prev_utime)) * (timestamp - prev_utime)\n",
    "    \n",
    "    return interpolated_speed\n",
    "\n",
    "def find_nearest_speed(veh_speed, sorted_samples):\n",
    "    result = []\n",
    "    for sample in sorted_samples:\n",
    "        timestamp = sample['timestamp']\n",
    "        if timestamp > veh_speed[-1]['utime']:\n",
    "            continue\n",
    "        nearest_speed = interpolate_speed(veh_speed, timestamp)\n",
    "        result.append(nearest_speed)\n",
    "    return result"
   ]
  },
  {
   "cell_type": "code",
   "execution_count": 6,
   "id": "b35510be",
   "metadata": {},
   "outputs": [],
   "source": [
    "import bisect\n",
    "\n",
    "def interpolate_angle(veh_angles, timestamp):\n",
    "    if timestamp < veh_angles[0]['utime']:\n",
    "        return veh_angles[0]['value']\n",
    "    # 找到timestamp在veh_speed中的位置\n",
    "    index = bisect.bisect_left([d['utime'] for d in veh_angles], timestamp)\n",
    "    \n",
    "    # 如果timestamp在veh_speed的最后一个元素之后，则返回最后一个元素的速度\n",
    "    if index == len(veh_angles):\n",
    "        return veh_angles[-1]['value']\n",
    "    \n",
    "    # 如果timestamp正好等于某个utime，则直接返回该utime对应的速度\n",
    "    if veh_angles[index]['utime'] == timestamp:\n",
    "        return veh_angles[index]['value']\n",
    "    \n",
    "    # 如果timestamp在两个utime之间，则进行插值\n",
    "    prev_utime = veh_angles[index - 1]['utime']\n",
    "    next_utime = veh_angles[index]['utime']\n",
    "    prev_angle = veh_angles[index - 1]['value']\n",
    "    next_angle = veh_angles[index]['value']\n",
    "    \n",
    "    # 进行线性插值\n",
    "    interpolated_angle = prev_angle + ((next_angle - prev_angle) / (next_utime - prev_utime)) * (timestamp - prev_utime)\n",
    "    \n",
    "    return interpolated_angle\n",
    "\n",
    "def find_nearest_angle(veh_angles, sorted_samples):\n",
    "    result = []\n",
    "    for sample in sorted_samples:\n",
    "        timestamp = sample['timestamp']\n",
    "        if timestamp > veh_angles[-1]['utime']:\n",
    "            continue\n",
    "        nearest_speed = interpolate_angle(veh_angles, timestamp)\n",
    "        result.append(nearest_speed)\n",
    "    return result"
   ]
  },
  {
   "cell_type": "code",
   "execution_count": 8,
   "id": "baac66e7",
   "metadata": {},
   "outputs": [
    {
     "data": {
      "text/plain": [
       "150"
      ]
     },
     "execution_count": 8,
     "metadata": {},
     "output_type": "execute_result"
    }
   ],
   "source": [
    "len(scenes_list)"
   ]
  },
  {
   "cell_type": "code",
   "execution_count": 11,
   "id": "77c47aa7",
   "metadata": {},
   "outputs": [
    {
     "name": "stderr",
     "output_type": "stream",
     "text": [
      "  4%|▍         | 6/150 [00:00<00:02, 51.89it/s]"
     ]
    },
    {
     "name": "stdout",
     "output_type": "stream",
     "text": [
      "226 226\n",
      "230 230\n",
      "229 229\n",
      "226 226\n",
      "231 231\n",
      "234 234\n",
      "224 224\n",
      "231 231\n",
      "229 229\n",
      "229 229\n",
      "235 235\n"
     ]
    },
    {
     "name": "stderr",
     "output_type": "stream",
     "text": [
      " 12%|█▏        | 18/150 [00:00<00:02, 53.97it/s]"
     ]
    },
    {
     "name": "stdout",
     "output_type": "stream",
     "text": [
      "233 233\n",
      "225 225\n",
      "229 229\n",
      "233 233\n",
      "227 227\n",
      "228 228\n",
      "231 231\n",
      "228 228\n",
      "224 224\n",
      "229 229\n",
      "230 230\n",
      "232 232\n"
     ]
    },
    {
     "name": "stderr",
     "output_type": "stream",
     "text": [
      " 20%|██        | 30/150 [00:00<00:02, 54.05it/s]"
     ]
    },
    {
     "name": "stdout",
     "output_type": "stream",
     "text": [
      "229 229\n",
      "227 227\n",
      "228 228\n",
      "229 229\n",
      "231 231\n",
      "226 226\n",
      "231 231\n",
      "232 232\n",
      "229 229\n",
      "229 229\n",
      "229 229\n",
      "230 230\n"
     ]
    },
    {
     "name": "stderr",
     "output_type": "stream",
     "text": [
      " 28%|██▊       | 42/150 [00:00<00:01, 55.51it/s]"
     ]
    },
    {
     "name": "stdout",
     "output_type": "stream",
     "text": [
      "227 227\n",
      "228 228\n",
      "233 233\n",
      "228 228\n",
      "227 227\n",
      "232 232\n",
      "228 228\n",
      "227 227\n",
      "230 230\n",
      "229 229\n",
      "229 229\n",
      "234 234\n"
     ]
    },
    {
     "name": "stderr",
     "output_type": "stream",
     "text": [
      " 36%|███▌      | 54/150 [00:00<00:01, 55.04it/s]"
     ]
    },
    {
     "name": "stdout",
     "output_type": "stream",
     "text": [
      "230 230\n",
      "225 225\n",
      "231 231\n",
      "237 237\n",
      "235 235\n",
      "233 233\n",
      "229 229\n",
      "232 232\n",
      "233 233\n",
      "239 239\n",
      "237 237\n"
     ]
    },
    {
     "name": "stderr",
     "output_type": "stream",
     "text": [
      " 44%|████▍     | 66/150 [00:01<00:01, 53.39it/s]"
     ]
    },
    {
     "name": "stdout",
     "output_type": "stream",
     "text": [
      "240 240\n",
      "233 233\n",
      "231 231\n",
      "234 234\n",
      "237 237\n",
      "236 236\n",
      "230 230\n",
      "232 232\n",
      "235 235\n",
      "236 236\n",
      "229 229\n",
      "235 235\n"
     ]
    },
    {
     "name": "stderr",
     "output_type": "stream",
     "text": [
      " 52%|█████▏    | 78/150 [00:01<00:01, 53.52it/s]"
     ]
    },
    {
     "name": "stdout",
     "output_type": "stream",
     "text": [
      "235 235\n",
      "232 232\n",
      "236 236\n",
      "236 236\n",
      "237 237\n",
      "236 236\n",
      "236 236\n",
      "234 234\n",
      "237 237\n",
      "233 233\n",
      "235 235\n"
     ]
    },
    {
     "name": "stderr",
     "output_type": "stream",
     "text": [
      " 60%|██████    | 90/150 [00:01<00:01, 52.54it/s]"
     ]
    },
    {
     "name": "stdout",
     "output_type": "stream",
     "text": [
      "238 238\n",
      "235 235\n",
      "239 239\n",
      "238 238\n",
      "234 234\n",
      "235 235\n",
      "238 238\n",
      "232 232\n",
      "239 239\n",
      "236 236\n",
      "238 238\n"
     ]
    },
    {
     "name": "stderr",
     "output_type": "stream",
     "text": [
      " 68%|██████▊   | 102/150 [00:01<00:00, 52.53it/s]"
     ]
    },
    {
     "name": "stdout",
     "output_type": "stream",
     "text": [
      "234 234\n",
      "233 233\n",
      "234 234\n",
      "231 231\n",
      "233 233\n",
      "234 234\n",
      "233 233\n",
      "237 237\n",
      "238 238\n",
      "232 232\n",
      "237 237\n"
     ]
    },
    {
     "name": "stderr",
     "output_type": "stream",
     "text": [
      " 72%|███████▏  | 108/150 [00:02<00:00, 50.11it/s]"
     ]
    },
    {
     "name": "stdout",
     "output_type": "stream",
     "text": [
      "233 233\n",
      "236 236\n",
      "233 233\n",
      "233 233\n",
      "233 233\n",
      "233 233\n",
      "231 231\n",
      "237 237\n",
      "236 236\n",
      "240 240\n"
     ]
    },
    {
     "name": "stderr",
     "output_type": "stream",
     "text": [
      " 80%|████████  | 120/150 [00:02<00:00, 50.87it/s]"
     ]
    },
    {
     "name": "stdout",
     "output_type": "stream",
     "text": [
      "237 237\n",
      "238 238\n",
      "240 240\n",
      "239 239\n",
      "238 238\n",
      "233 233\n",
      "233 233\n",
      "236 236\n",
      "240 240\n",
      "235 235\n",
      "234 234\n"
     ]
    },
    {
     "name": "stderr",
     "output_type": "stream",
     "text": [
      " 88%|████████▊ | 132/150 [00:02<00:00, 52.02it/s]"
     ]
    },
    {
     "name": "stdout",
     "output_type": "stream",
     "text": [
      "233 233\n",
      "237 237\n",
      "234 234\n",
      "238 238\n",
      "231 231\n",
      "235 235\n",
      "234 234\n",
      "236 236\n",
      "233 233\n",
      "232 232\n",
      "235 235\n",
      "235 235\n"
     ]
    },
    {
     "name": "stderr",
     "output_type": "stream",
     "text": [
      " 96%|█████████▌| 144/150 [00:02<00:00, 52.34it/s]"
     ]
    },
    {
     "name": "stdout",
     "output_type": "stream",
     "text": [
      "235 235\n",
      "238 238\n",
      "239 239\n",
      "236 236\n",
      "234 234\n",
      "234 234\n",
      "233 233\n",
      "235 235\n",
      "229 229\n",
      "236 236\n",
      "232 232\n"
     ]
    },
    {
     "name": "stderr",
     "output_type": "stream",
     "text": [
      "100%|██████████| 150/150 [00:02<00:00, 52.92it/s]\n"
     ]
    },
    {
     "name": "stdout",
     "output_type": "stream",
     "text": [
      "236 236\n",
      "232 232\n",
      "229 229\n"
     ]
    }
   ],
   "source": [
    "# extract angle and speed for 40 frames in all scene\n",
    "# val\n",
    "meta_data = []\n",
    "for sce in tqdm(scenes_list):\n",
    "    unsort_samples = dataset.samples_groups[sce]\n",
    "    # sorted_samples = sort_samples(unsort_samples)\n",
    "    sorted_samples = unsort_samples\n",
    "    veh_angle = nusc_can.get_messages(sce, 'steeranglefeedback')\n",
    "    veh_speed = nusc_can.get_messages(sce, 'vehicle_monitor')\n",
    "\n",
    "    angles = find_nearest_angle(veh_angle, sorted_samples)\n",
    "    speeds = find_nearest_speed(veh_speed, sorted_samples)\n",
    "    # print(f'scene: {sce}, len of angles: {len(angles)}, len of speeds: {len(speeds)}')\n",
    "    if len(angles)!= len(speeds):\n",
    "        print(f'scene: {sce}, len of angles: {len(angles)}, len of speeds: {len(speeds)}')\n",
    "    \n",
    "    # print(len(angles), len(speeds))\n",
    "    \n",
    "    filenames = []\n",
    "    for sample in sorted_samples:\n",
    "        # token = sample['data']['CAM_FRONT']\n",
    "        # sample_filename = get_sample_filename(token)\n",
    "        # filenames.append(sample_filename)\n",
    "        filenames.append(sample['filename'])\n",
    "\n",
    "    meta_data.append(\n",
    "        {\n",
    "            'scene': sce,\n",
    "            'files': filenames,\n",
    "            'angles': angles,\n",
    "            'speeds': speeds\n",
    "        }\n",
    "    )\n",
    "len(meta_data)\n",
    "import json\n",
    "with open('scene_action_file_allframes_val.json', 'w') as f:\n",
    "    json.dump(meta_data, f)"
   ]
  },
  {
   "cell_type": "code",
   "execution_count": 13,
   "id": "92039123",
   "metadata": {},
   "outputs": [
    {
     "name": "stdout",
     "output_type": "stream",
     "text": [
      "scene-0161 does not have any CAN bus data!\n",
      "scene-0162 does not have any CAN bus data!\n",
      "scene-0163 does not have any CAN bus data!\n",
      "scene-0164 does not have any CAN bus data!\n",
      "scene-0165 does not have any CAN bus data!\n",
      "scene-0166 does not have any CAN bus data!\n",
      "scene-0167 does not have any CAN bus data!\n",
      "scene-0168 does not have any CAN bus data!\n",
      "scene-0170 does not have any CAN bus data!\n",
      "scene-0171 does not have any CAN bus data!\n",
      "scene-0172 does not have any CAN bus data!\n",
      "scene-0173 does not have any CAN bus data!\n",
      "scene-0174 does not have any CAN bus data!\n",
      "scene-0175 does not have any CAN bus data!\n",
      "scene-0176 does not have any CAN bus data!\n"
     ]
    },
    {
     "name": "stderr",
     "output_type": "stream",
     "text": [
      "/mnt/storage/user/wangxiaodong/.local/lib/python3.11/site-packages/nuscenes/can_bus/can_bus_api.py:236: UserWarning: Warning: %s does not have any vehicle_monitor messages!\n",
      "  warnings.warn('Warning: %s does not have any vehicle_monitor messages!')\n"
     ]
    },
    {
     "name": "stdout",
     "output_type": "stream",
     "text": [
      "scene-0419 have zero CAN bus data!\n"
     ]
    }
   ],
   "source": [
    "# extract angle and speed for 40 frames in all scene\n",
    "# train\n",
    "meta_data = []\n",
    "for sce in scenes_list:\n",
    "    unsort_samples = dataset.samples_groups[sce]\n",
    "    # sorted_samples = sort_samples(unsort_samples)\n",
    "    sorted_samples = unsort_samples # already sorted by -> next\n",
    "    try:\n",
    "        veh_angle = nusc_can.get_messages(sce, 'steeranglefeedback')\n",
    "        veh_speed = nusc_can.get_messages(sce, 'vehicle_monitor')\n",
    "    except:\n",
    "        print(f'{sce} does not have any CAN bus data!')\n",
    "        continue\n",
    "    if len(veh_angle)==0 or len(veh_speed)==0:\n",
    "        print(f'{sce} have zero CAN bus data!')\n",
    "        continue\n",
    "\n",
    "    angles = find_nearest_angle(veh_angle, sorted_samples)\n",
    "    speeds = find_nearest_speed(veh_speed, sorted_samples)\n",
    "    # print(f'scene: {sce}, len of angles: {len(angles)}, len of speeds: {len(speeds)}')\n",
    "    if len(angles)!= len(speeds):\n",
    "        print(f'scene: {sce}, len of angles: {len(angles)}, len of speeds: {len(speeds)}')\n",
    "    \n",
    "    filenames = []\n",
    "    for sample in sorted_samples:\n",
    "        # token = sample['data']['CAM_FRONT']\n",
    "        # sample_filename = get_sample_filename(token)\n",
    "        # filenames.append(sample_filename)\n",
    "        filenames.append(sample['filename'])\n",
    "\n",
    "    meta_data.append(\n",
    "        {\n",
    "            'scene': sce,\n",
    "            'files': filenames,\n",
    "            'angles': angles,\n",
    "            'speeds': speeds\n",
    "        }\n",
    "    )\n",
    "len(meta_data)\n",
    "import json\n",
    "with open('scene_action_file_allframes_train.json', 'w') as f:\n",
    "    json.dump(meta_data, f)"
   ]
  },
  {
   "cell_type": "code",
   "execution_count": 13,
   "id": "61cc9fef",
   "metadata": {},
   "outputs": [
    {
     "data": {
      "text/plain": [
       "684"
      ]
     },
     "execution_count": 13,
     "metadata": {},
     "output_type": "execute_result"
    }
   ],
   "source": [
    "len(meta_data)"
   ]
  }
 ],
 "metadata": {
  "kernelspec": {
   "display_name": "diff",
   "language": "python",
   "name": "python3"
  },
  "language_info": {
   "codemirror_mode": {
    "name": "ipython",
    "version": 3
   },
   "file_extension": ".py",
   "mimetype": "text/x-python",
   "name": "python",
   "nbconvert_exporter": "python",
   "pygments_lexer": "ipython3",
   "version": "3.11.4"
  }
 },
 "nbformat": 4,
 "nbformat_minor": 5
}
